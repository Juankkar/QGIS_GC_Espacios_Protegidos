{
 "cells": [
  {
   "cell_type": "code",
   "execution_count": null,
   "metadata": {},
   "outputs": [],
   "source": [
    "import pandas as pd\n",
    "import geopandas as gpd\n",
    "import matplotlib.pyplot as plt\n",
    "from matplotlib.colors import ListedColormap\n",
    "from shapely.geometry import Point, Polygon\n",
    "import warnings; warnings.filterwarnings(\"ignore\")"
   ]
  },
  {
   "cell_type": "code",
   "execution_count": null,
   "metadata": {},
   "outputs": [],
   "source": [
    "puntos_especies = pd.read_csv(\"..\\\\data\\\\observacion_puntos\\\\especies.csv\")\n",
    "cuadrantes_especie = pd.read_csv(\"..\\\\data\\\\observacion_puntos\\\\cuadrantes_especie.csv\")"
   ]
  },
  {
   "cell_type": "code",
   "execution_count": null,
   "metadata": {},
   "outputs": [],
   "source": [
    "puntos_especies.head()"
   ]
  },
  {
   "cell_type": "code",
   "execution_count": null,
   "metadata": {},
   "outputs": [],
   "source": [
    "cuadrantes_especie.head()"
   ]
  },
  {
   "cell_type": "code",
   "execution_count": null,
   "metadata": {},
   "outputs": [],
   "source": [
    "## Separamos los datos\n",
    "filtro_cuadrante1 = cuadrantes_especie[\"cuadrante\"] == \"Antes\"\n",
    "filtro_cuadrante2 = cuadrantes_especie[\"cuadrante\"] == \"Despues\"\n",
    "\n",
    "df_cuadrantes_antes = cuadrantes_especie[filtro_cuadrante1]\n",
    "df_cuadrantes_despues = cuadrantes_especie[filtro_cuadrante2]"
   ]
  },
  {
   "cell_type": "markdown",
   "metadata": {},
   "source": [
    "## Crear una capa SHP de puntos, marcando las especies encontradas"
   ]
  },
  {
   "cell_type": "code",
   "execution_count": null,
   "metadata": {},
   "outputs": [],
   "source": [
    "geometria_puntos = [Point(xy) for xy in zip(puntos_especies[\"latitud\"], puntos_especies[\"longitud\"])]\n",
    "gdf_puntos_especie = gpd.GeoDataFrame(puntos_especies, geometry=geometria_puntos, crs=\"epsg:32628\")\n",
    "gdf_puntos_especie.head()"
   ]
  },
  {
   "cell_type": "code",
   "execution_count": null,
   "metadata": {},
   "outputs": [],
   "source": [
    "## Etiquetas\n",
    "gdf_puntos_especie[\"etiquetas\"] = gdf_puntos_especie[\"especie\"] + \"\\n\" + gdf_puntos_especie[\"fecha\"]\n",
    "gdf_puntos_especie"
   ]
  },
  {
   "cell_type": "markdown",
   "metadata": {},
   "source": [
    "## Crear una capa SHP con los polígonos para mostrar la extensión de tierra de las especies"
   ]
  },
  {
   "cell_type": "markdown",
   "metadata": {},
   "source": [
    "Primero hay que crear una capa de puntos como el apartado anterior"
   ]
  },
  {
   "cell_type": "code",
   "execution_count": null,
   "metadata": {},
   "outputs": [],
   "source": [
    "geometria_cuadrantes_antes = [Point(xy) for xy in zip(df_cuadrantes_antes[\"latitud\"], df_cuadrantes_antes[\"longitud\"])]\n",
    "gdf_puntos_cuadrantes_antes = gpd.GeoDataFrame(df_cuadrantes_antes, geometry=geometria_cuadrantes_antes, crs=\"epsg:32628\")\n",
    "\n",
    "geometria_cuadrantes_despues = [Point(xy) for xy in zip(df_cuadrantes_despues[\"latitud\"], df_cuadrantes_despues[\"longitud\"])]\n",
    "gdf_puntos_cuadrantes_despues = gpd.GeoDataFrame(df_cuadrantes_despues, geometry=geometria_cuadrantes_despues, crs=\"epsg:32628\")"
   ]
  },
  {
   "cell_type": "code",
   "execution_count": null,
   "metadata": {},
   "outputs": [],
   "source": [
    "gdf_puntos_cuadrantes_antes.head()"
   ]
  },
  {
   "cell_type": "code",
   "execution_count": null,
   "metadata": {},
   "outputs": [],
   "source": [
    "gdf_puntos_cuadrantes_despues"
   ]
  },
  {
   "cell_type": "markdown",
   "metadata": {},
   "source": [
    "Pero esta vez además hay que unirlo para dar lugar a polígonos"
   ]
  },
  {
   "cell_type": "code",
   "execution_count": null,
   "metadata": {},
   "outputs": [],
   "source": [
    "poligono_cuadrante1 = Polygon(gdf_puntos_cuadrantes_antes[\"geometry\"])\n",
    "poligono_cuadrante2 = Polygon(gdf_puntos_cuadrantes_despues[\"geometry\"])\n"
   ]
  },
  {
   "cell_type": "code",
   "execution_count": null,
   "metadata": {},
   "outputs": [],
   "source": [
    "## Creamos el data frame\n",
    "gdf_cuadrantes_poligonos = gpd.GeoDataFrame({\"cuadrante\": cuadrantes_especie[\"cuadrante\"].unique(), \n",
    "                                             \"geometry\": [poligono_cuadrante1, \n",
    "                                                          poligono_cuadrante2]})\n",
    "print(gdf_cuadrantes_poligonos)"
   ]
  },
  {
   "cell_type": "code",
   "execution_count": null,
   "metadata": {},
   "outputs": [],
   "source": [
    "fig, ax = plt.subplots(1,1)\n",
    "\n",
    "gdf_cuadrantes_poligonos.plot(ax = ax, \n",
    "                              column=\"cuadrante\", \n",
    "                              alpha = .5,\n",
    "                              cmap=ListedColormap([\"red\", \"blue\"]),\n",
    "                              legend=True)\n",
    "gdf_puntos_especie.plot(ax = ax, edgecolor=\"black\", facecolor=\"yellow\")"
   ]
  },
  {
   "cell_type": "markdown",
   "metadata": {},
   "source": [
    "## Descargamos las capas como archivos SHP"
   ]
  },
  {
   "cell_type": "code",
   "execution_count": null,
   "metadata": {},
   "outputs": [],
   "source": [
    "gdf_puntos_especie.to_file(\"..\\\\data\\\\gran_canaria\\\\puntos_especie.shp\")\n"
   ]
  },
  {
   "cell_type": "code",
   "execution_count": null,
   "metadata": {},
   "outputs": [],
   "source": [
    "gdf_cuadrantes_poligonos.to_file(\"..\\\\data\\\\gran_canaria\\\\poligonos_especie.shp\")"
   ]
  }
 ],
 "metadata": {
  "kernelspec": {
   "display_name": "Python 3",
   "language": "python",
   "name": "python3"
  },
  "language_info": {
   "codemirror_mode": {
    "name": "ipython",
    "version": 3
   },
   "file_extension": ".py",
   "mimetype": "text/x-python",
   "name": "python",
   "nbconvert_exporter": "python",
   "pygments_lexer": "ipython3",
   "version": "3.12.2"
  }
 },
 "nbformat": 4,
 "nbformat_minor": 2
}
