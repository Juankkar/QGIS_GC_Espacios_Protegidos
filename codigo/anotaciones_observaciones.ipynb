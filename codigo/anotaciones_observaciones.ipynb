{
 "cells": [
  {
   "cell_type": "code",
   "execution_count": 3,
   "metadata": {},
   "outputs": [],
   "source": [
    "import pandas as pd\n",
    "import geopandas as gpd\n",
    "from shapely.geometry import Point, Polygon\n",
    "import warnings; warnings.filterwarnings(\"ignore\")"
   ]
  },
  {
   "cell_type": "code",
   "execution_count": 112,
   "metadata": {},
   "outputs": [],
   "source": [
    "puntos_especies = pd.read_csv(\"..\\\\data\\\\observacion_puntos\\\\especies.csv\")\n",
    "cuadrantes_especie = pd.read_csv(\"..\\\\data\\\\observacion_puntos\\\\cuadrantes_especie.csv\")"
   ]
  },
  {
   "cell_type": "code",
   "execution_count": 113,
   "metadata": {},
   "outputs": [
    {
     "data": {
      "text/html": [
       "<div>\n",
       "<style scoped>\n",
       "    .dataframe tbody tr th:only-of-type {\n",
       "        vertical-align: middle;\n",
       "    }\n",
       "\n",
       "    .dataframe tbody tr th {\n",
       "        vertical-align: top;\n",
       "    }\n",
       "\n",
       "    .dataframe thead th {\n",
       "        text-align: right;\n",
       "    }\n",
       "</style>\n",
       "<table border=\"1\" class=\"dataframe\">\n",
       "  <thead>\n",
       "    <tr style=\"text-align: right;\">\n",
       "      <th></th>\n",
       "      <th>latitud</th>\n",
       "      <th>longitud</th>\n",
       "      <th>especie</th>\n",
       "      <th>localidad</th>\n",
       "    </tr>\n",
       "  </thead>\n",
       "  <tbody>\n",
       "    <tr>\n",
       "      <th>0</th>\n",
       "      <td>460902.306</td>\n",
       "      <td>3100672.715</td>\n",
       "      <td>Lotus kunkelii</td>\n",
       "      <td>Jinámar</td>\n",
       "    </tr>\n",
       "    <tr>\n",
       "      <th>1</th>\n",
       "      <td>460924.690</td>\n",
       "      <td>3100684.145</td>\n",
       "      <td>Lotus kunkelii</td>\n",
       "      <td>Jinámar</td>\n",
       "    </tr>\n",
       "    <tr>\n",
       "      <th>2</th>\n",
       "      <td>460932.548</td>\n",
       "      <td>3100657.633</td>\n",
       "      <td>Lotus kunkelii</td>\n",
       "      <td>Jinámar</td>\n",
       "    </tr>\n",
       "  </tbody>\n",
       "</table>\n",
       "</div>"
      ],
      "text/plain": [
       "      latitud     longitud         especie localidad\n",
       "0  460902.306  3100672.715  Lotus kunkelii   Jinámar\n",
       "1  460924.690  3100684.145  Lotus kunkelii   Jinámar\n",
       "2  460932.548  3100657.633  Lotus kunkelii   Jinámar"
      ]
     },
     "execution_count": 113,
     "metadata": {},
     "output_type": "execute_result"
    }
   ],
   "source": [
    "puntos_especies.head()"
   ]
  },
  {
   "cell_type": "code",
   "execution_count": 114,
   "metadata": {},
   "outputs": [
    {
     "data": {
      "text/html": [
       "<div>\n",
       "<style scoped>\n",
       "    .dataframe tbody tr th:only-of-type {\n",
       "        vertical-align: middle;\n",
       "    }\n",
       "\n",
       "    .dataframe tbody tr th {\n",
       "        vertical-align: top;\n",
       "    }\n",
       "\n",
       "    .dataframe thead th {\n",
       "        text-align: right;\n",
       "    }\n",
       "</style>\n",
       "<table border=\"1\" class=\"dataframe\">\n",
       "  <thead>\n",
       "    <tr style=\"text-align: right;\">\n",
       "      <th></th>\n",
       "      <th>latitud</th>\n",
       "      <th>longitud</th>\n",
       "      <th>especie</th>\n",
       "      <th>localidad</th>\n",
       "      <th>cuadrante</th>\n",
       "    </tr>\n",
       "  </thead>\n",
       "  <tbody>\n",
       "    <tr>\n",
       "      <th>0</th>\n",
       "      <td>460888.97</td>\n",
       "      <td>3100675.65</td>\n",
       "      <td>Lotus kunkelii</td>\n",
       "      <td>Jinámar</td>\n",
       "      <td>Antes</td>\n",
       "    </tr>\n",
       "    <tr>\n",
       "      <th>1</th>\n",
       "      <td>460925.96</td>\n",
       "      <td>3100693.11</td>\n",
       "      <td>Lotus kunkelii</td>\n",
       "      <td>Jinámar</td>\n",
       "      <td>Antes</td>\n",
       "    </tr>\n",
       "    <tr>\n",
       "      <th>2</th>\n",
       "      <td>460932.94</td>\n",
       "      <td>3100682.95</td>\n",
       "      <td>Lotus kunkelii</td>\n",
       "      <td>Jinámar</td>\n",
       "      <td>Antes</td>\n",
       "    </tr>\n",
       "    <tr>\n",
       "      <th>3</th>\n",
       "      <td>460902.78</td>\n",
       "      <td>3100664.06</td>\n",
       "      <td>Lotus kunkelii</td>\n",
       "      <td>Jinámar</td>\n",
       "      <td>Antes</td>\n",
       "    </tr>\n",
       "    <tr>\n",
       "      <th>4</th>\n",
       "      <td>460888.97</td>\n",
       "      <td>3100675.65</td>\n",
       "      <td>Lotus kunkelii</td>\n",
       "      <td>Jinámar</td>\n",
       "      <td>Despues</td>\n",
       "    </tr>\n",
       "  </tbody>\n",
       "</table>\n",
       "</div>"
      ],
      "text/plain": [
       "     latitud    longitud         especie localidad cuadrante\n",
       "0  460888.97  3100675.65  Lotus kunkelii   Jinámar     Antes\n",
       "1  460925.96  3100693.11  Lotus kunkelii   Jinámar     Antes\n",
       "2  460932.94  3100682.95  Lotus kunkelii   Jinámar     Antes\n",
       "3  460902.78  3100664.06  Lotus kunkelii   Jinámar     Antes\n",
       "4  460888.97  3100675.65  Lotus kunkelii   Jinámar   Despues"
      ]
     },
     "execution_count": 114,
     "metadata": {},
     "output_type": "execute_result"
    }
   ],
   "source": [
    "cuadrantes_especie.head()"
   ]
  },
  {
   "cell_type": "code",
   "execution_count": 125,
   "metadata": {},
   "outputs": [],
   "source": [
    "## Separamos los datos\n",
    "filtro_cuadrante1 = cuadrantes_especie[\"cuadrante\"] == \"Antes\"\n",
    "filtro_cuadrante2 = cuadrantes_especie[\"cuadrante\"] == \"Despues\"\n",
    "\n",
    "df_cuadrantes_antes = cuadrantes_especie[filtro_cuadrante1]\n",
    "df_cuadrantes_despues = cuadrantes_especie[filtro_cuadrante2]"
   ]
  },
  {
   "cell_type": "markdown",
   "metadata": {},
   "source": [
    "## Crear una capa SHP de puntos, marcando las especies encontradas"
   ]
  },
  {
   "cell_type": "code",
   "execution_count": 126,
   "metadata": {},
   "outputs": [
    {
     "data": {
      "text/html": [
       "<div>\n",
       "<style scoped>\n",
       "    .dataframe tbody tr th:only-of-type {\n",
       "        vertical-align: middle;\n",
       "    }\n",
       "\n",
       "    .dataframe tbody tr th {\n",
       "        vertical-align: top;\n",
       "    }\n",
       "\n",
       "    .dataframe thead th {\n",
       "        text-align: right;\n",
       "    }\n",
       "</style>\n",
       "<table border=\"1\" class=\"dataframe\">\n",
       "  <thead>\n",
       "    <tr style=\"text-align: right;\">\n",
       "      <th></th>\n",
       "      <th>latitud</th>\n",
       "      <th>longitud</th>\n",
       "      <th>especie</th>\n",
       "      <th>localidad</th>\n",
       "      <th>geometry</th>\n",
       "    </tr>\n",
       "  </thead>\n",
       "  <tbody>\n",
       "    <tr>\n",
       "      <th>0</th>\n",
       "      <td>460902.306</td>\n",
       "      <td>3100672.715</td>\n",
       "      <td>Lotus kunkelii</td>\n",
       "      <td>Jinámar</td>\n",
       "      <td>POINT (460902.306 3100672.715)</td>\n",
       "    </tr>\n",
       "    <tr>\n",
       "      <th>1</th>\n",
       "      <td>460924.690</td>\n",
       "      <td>3100684.145</td>\n",
       "      <td>Lotus kunkelii</td>\n",
       "      <td>Jinámar</td>\n",
       "      <td>POINT (460924.690 3100684.145)</td>\n",
       "    </tr>\n",
       "    <tr>\n",
       "      <th>2</th>\n",
       "      <td>460932.548</td>\n",
       "      <td>3100657.633</td>\n",
       "      <td>Lotus kunkelii</td>\n",
       "      <td>Jinámar</td>\n",
       "      <td>POINT (460932.548 3100657.633)</td>\n",
       "    </tr>\n",
       "  </tbody>\n",
       "</table>\n",
       "</div>"
      ],
      "text/plain": [
       "      latitud     longitud         especie localidad  \\\n",
       "0  460902.306  3100672.715  Lotus kunkelii   Jinámar   \n",
       "1  460924.690  3100684.145  Lotus kunkelii   Jinámar   \n",
       "2  460932.548  3100657.633  Lotus kunkelii   Jinámar   \n",
       "\n",
       "                         geometry  \n",
       "0  POINT (460902.306 3100672.715)  \n",
       "1  POINT (460924.690 3100684.145)  \n",
       "2  POINT (460932.548 3100657.633)  "
      ]
     },
     "execution_count": 126,
     "metadata": {},
     "output_type": "execute_result"
    }
   ],
   "source": [
    "geometria_puntos = [Point(xy) for xy in zip(puntos_especies[\"latitud\"], puntos_especies[\"longitud\"])]\n",
    "gdf_puntos_especie = gpd.GeoDataFrame(puntos_especies, geometry=geometria_puntos, crs=\"epsg:32628\")\n",
    "gdf_puntos_especie.head()"
   ]
  },
  {
   "cell_type": "markdown",
   "metadata": {},
   "source": [
    "## Crear una capa SHP con los polígonos para mostrar la extensión de tierra de las especies"
   ]
  },
  {
   "cell_type": "markdown",
   "metadata": {},
   "source": [
    "Primero hay que crear una capa de puntos como el apartado anterior"
   ]
  },
  {
   "cell_type": "code",
   "execution_count": 127,
   "metadata": {},
   "outputs": [],
   "source": [
    "geometria_cuadrantes_antes = [Point(xy) for xy in zip(df_cuadrantes_antes[\"latitud\"], df_cuadrantes_antes[\"longitud\"])]\n",
    "gdf_puntos_cuadrantes_antes = gpd.GeoDataFrame(df_cuadrantes_antes, geometry=geometria_cuadrantes_antes, crs=\"epsg:32628\")\n",
    "\n",
    "geometria_cuadrantes_despues = [Point(xy) for xy in zip(df_cuadrantes_despues[\"latitud\"], df_cuadrantes_despues[\"longitud\"])]\n",
    "gdf_puntos_cuadrantes_despues = gpd.GeoDataFrame(df_cuadrantes_despues, geometry=geometria_cuadrantes_despues, crs=\"epsg:32628\")"
   ]
  },
  {
   "cell_type": "code",
   "execution_count": 128,
   "metadata": {},
   "outputs": [
    {
     "data": {
      "text/html": [
       "<div>\n",
       "<style scoped>\n",
       "    .dataframe tbody tr th:only-of-type {\n",
       "        vertical-align: middle;\n",
       "    }\n",
       "\n",
       "    .dataframe tbody tr th {\n",
       "        vertical-align: top;\n",
       "    }\n",
       "\n",
       "    .dataframe thead th {\n",
       "        text-align: right;\n",
       "    }\n",
       "</style>\n",
       "<table border=\"1\" class=\"dataframe\">\n",
       "  <thead>\n",
       "    <tr style=\"text-align: right;\">\n",
       "      <th></th>\n",
       "      <th>latitud</th>\n",
       "      <th>longitud</th>\n",
       "      <th>especie</th>\n",
       "      <th>localidad</th>\n",
       "      <th>cuadrante</th>\n",
       "      <th>geometry</th>\n",
       "    </tr>\n",
       "  </thead>\n",
       "  <tbody>\n",
       "    <tr>\n",
       "      <th>0</th>\n",
       "      <td>460888.97</td>\n",
       "      <td>3100675.65</td>\n",
       "      <td>Lotus kunkelii</td>\n",
       "      <td>Jinámar</td>\n",
       "      <td>Antes</td>\n",
       "      <td>POINT (460888.970 3100675.650)</td>\n",
       "    </tr>\n",
       "    <tr>\n",
       "      <th>1</th>\n",
       "      <td>460925.96</td>\n",
       "      <td>3100693.11</td>\n",
       "      <td>Lotus kunkelii</td>\n",
       "      <td>Jinámar</td>\n",
       "      <td>Antes</td>\n",
       "      <td>POINT (460925.960 3100693.110)</td>\n",
       "    </tr>\n",
       "    <tr>\n",
       "      <th>2</th>\n",
       "      <td>460932.94</td>\n",
       "      <td>3100682.95</td>\n",
       "      <td>Lotus kunkelii</td>\n",
       "      <td>Jinámar</td>\n",
       "      <td>Antes</td>\n",
       "      <td>POINT (460932.940 3100682.950)</td>\n",
       "    </tr>\n",
       "    <tr>\n",
       "      <th>3</th>\n",
       "      <td>460902.78</td>\n",
       "      <td>3100664.06</td>\n",
       "      <td>Lotus kunkelii</td>\n",
       "      <td>Jinámar</td>\n",
       "      <td>Antes</td>\n",
       "      <td>POINT (460902.780 3100664.060)</td>\n",
       "    </tr>\n",
       "  </tbody>\n",
       "</table>\n",
       "</div>"
      ],
      "text/plain": [
       "     latitud    longitud         especie localidad cuadrante  \\\n",
       "0  460888.97  3100675.65  Lotus kunkelii   Jinámar     Antes   \n",
       "1  460925.96  3100693.11  Lotus kunkelii   Jinámar     Antes   \n",
       "2  460932.94  3100682.95  Lotus kunkelii   Jinámar     Antes   \n",
       "3  460902.78  3100664.06  Lotus kunkelii   Jinámar     Antes   \n",
       "\n",
       "                         geometry  \n",
       "0  POINT (460888.970 3100675.650)  \n",
       "1  POINT (460925.960 3100693.110)  \n",
       "2  POINT (460932.940 3100682.950)  \n",
       "3  POINT (460902.780 3100664.060)  "
      ]
     },
     "execution_count": 128,
     "metadata": {},
     "output_type": "execute_result"
    }
   ],
   "source": [
    "gdf_puntos_cuadrantes_antes.head()"
   ]
  },
  {
   "cell_type": "code",
   "execution_count": 129,
   "metadata": {},
   "outputs": [
    {
     "data": {
      "text/html": [
       "<div>\n",
       "<style scoped>\n",
       "    .dataframe tbody tr th:only-of-type {\n",
       "        vertical-align: middle;\n",
       "    }\n",
       "\n",
       "    .dataframe tbody tr th {\n",
       "        vertical-align: top;\n",
       "    }\n",
       "\n",
       "    .dataframe thead th {\n",
       "        text-align: right;\n",
       "    }\n",
       "</style>\n",
       "<table border=\"1\" class=\"dataframe\">\n",
       "  <thead>\n",
       "    <tr style=\"text-align: right;\">\n",
       "      <th></th>\n",
       "      <th>latitud</th>\n",
       "      <th>longitud</th>\n",
       "      <th>especie</th>\n",
       "      <th>localidad</th>\n",
       "      <th>cuadrante</th>\n",
       "      <th>geometry</th>\n",
       "    </tr>\n",
       "  </thead>\n",
       "  <tbody>\n",
       "    <tr>\n",
       "      <th>4</th>\n",
       "      <td>460888.97</td>\n",
       "      <td>3100675.65</td>\n",
       "      <td>Lotus kunkelii</td>\n",
       "      <td>Jinámar</td>\n",
       "      <td>Despues</td>\n",
       "      <td>POINT (460888.970 3100675.650)</td>\n",
       "    </tr>\n",
       "    <tr>\n",
       "      <th>5</th>\n",
       "      <td>460925.96</td>\n",
       "      <td>3100693.11</td>\n",
       "      <td>Lotus kunkelii</td>\n",
       "      <td>Jinámar</td>\n",
       "      <td>Despues</td>\n",
       "      <td>POINT (460925.960 3100693.110)</td>\n",
       "    </tr>\n",
       "    <tr>\n",
       "      <th>6</th>\n",
       "      <td>460943.90</td>\n",
       "      <td>3100660.09</td>\n",
       "      <td>Lotus kunkelii</td>\n",
       "      <td>Jinámar</td>\n",
       "      <td>Despues</td>\n",
       "      <td>POINT (460943.900 3100660.090)</td>\n",
       "    </tr>\n",
       "    <tr>\n",
       "      <th>7</th>\n",
       "      <td>460931.67</td>\n",
       "      <td>3100647.39</td>\n",
       "      <td>Lotus kunkelii</td>\n",
       "      <td>Jinámar</td>\n",
       "      <td>Despues</td>\n",
       "      <td>POINT (460931.670 3100647.390)</td>\n",
       "    </tr>\n",
       "  </tbody>\n",
       "</table>\n",
       "</div>"
      ],
      "text/plain": [
       "     latitud    longitud         especie localidad cuadrante  \\\n",
       "4  460888.97  3100675.65  Lotus kunkelii   Jinámar   Despues   \n",
       "5  460925.96  3100693.11  Lotus kunkelii   Jinámar   Despues   \n",
       "6  460943.90  3100660.09  Lotus kunkelii   Jinámar   Despues   \n",
       "7  460931.67  3100647.39  Lotus kunkelii   Jinámar   Despues   \n",
       "\n",
       "                         geometry  \n",
       "4  POINT (460888.970 3100675.650)  \n",
       "5  POINT (460925.960 3100693.110)  \n",
       "6  POINT (460943.900 3100660.090)  \n",
       "7  POINT (460931.670 3100647.390)  "
      ]
     },
     "execution_count": 129,
     "metadata": {},
     "output_type": "execute_result"
    }
   ],
   "source": [
    "gdf_puntos_cuadrantes_despues"
   ]
  },
  {
   "cell_type": "markdown",
   "metadata": {},
   "source": [
    "Pero esta vez además hay que unirlo para dar lugar a polígonos"
   ]
  },
  {
   "cell_type": "code",
   "execution_count": 130,
   "metadata": {},
   "outputs": [],
   "source": [
    "poligono_cuadrante1 = Polygon(gdf_puntos_cuadrantes_antes[\"geometry\"])\n",
    "poligono_cuadrante2 = Polygon(gdf_puntos_cuadrantes_despues[\"geometry\"])\n"
   ]
  },
  {
   "cell_type": "code",
   "execution_count": 131,
   "metadata": {},
   "outputs": [
    {
     "name": "stdout",
     "output_type": "stream",
     "text": [
      "  cuadrante                                           geometry\n",
      "0     Antes  POLYGON ((460888.970 3100675.650, 460925.960 3...\n",
      "1   Despues  POLYGON ((460888.970 3100675.650, 460925.960 3...\n"
     ]
    }
   ],
   "source": [
    "## Creamos el data frame\n",
    "gdf_cuadrantes_poligonos = gpd.GeoDataFrame({\"cuadrante\": cuadrantes_especie[\"cuadrante\"].unique(), \n",
    "                                             \"geometry\": [poligono_cuadrante1, \n",
    "                                                          poligono_cuadrante2]})\n",
    "print(gdf_cuadrantes_poligonos)"
   ]
  },
  {
   "cell_type": "markdown",
   "metadata": {},
   "source": [
    "## Descargamos las capas como archivos SHP"
   ]
  },
  {
   "cell_type": "code",
   "execution_count": 93,
   "metadata": {},
   "outputs": [],
   "source": [
    "gdf_puntos_especie.to_file(\"..\\\\data\\\\gran_canaria\\\\puntos_especie.shp\")\n"
   ]
  },
  {
   "cell_type": "code",
   "execution_count": 132,
   "metadata": {},
   "outputs": [],
   "source": [
    "gdf_cuadrantes_poligonos.to_file(\"..\\\\data\\\\gran_canaria\\\\poligonos_especie.shp\")"
   ]
  }
 ],
 "metadata": {
  "kernelspec": {
   "display_name": "Python 3",
   "language": "python",
   "name": "python3"
  },
  "language_info": {
   "codemirror_mode": {
    "name": "ipython",
    "version": 3
   },
   "file_extension": ".py",
   "mimetype": "text/x-python",
   "name": "python",
   "nbconvert_exporter": "python",
   "pygments_lexer": "ipython3",
   "version": "3.12.2"
  }
 },
 "nbformat": 4,
 "nbformat_minor": 2
}
