{
 "cells": [
  {
   "cell_type": "markdown",
   "metadata": {},
   "source": [
    "# Calculadora para cambio de coordenadas"
   ]
  },
  {
   "cell_type": "markdown",
   "metadata": {},
   "source": [
    "## Coordenadas UTM\n",
    "\n",
    "### Pasar de grados decimales, \"**ESPG:4326**\" (por defecto en QGIS), al formato de IDECanarias: **ESPG:32628**  "
   ]
  },
  {
   "cell_type": "code",
   "execution_count": null,
   "metadata": {},
   "outputs": [],
   "source": [
    "from pyproj import Proj, transform\n",
    "import warnings; warnings.filterwarnings(\"ignore\")\n",
    "\n",
    "# Coordenadas en grados decimales\n",
    "lat, lon = 28.042306, -15.471167\n",
    "\n",
    "# Definir la proyección deseada (WGS 1984 / UTM Zone 28N para Canarias)\n",
    "proyeccion_deseada = Proj(init=\"epsg:32628\")\n",
    "\n",
    "# Transformar las coordenadas\n",
    "x, y = transform(Proj(init=\"epsg:4326\"), proyeccion_deseada, lon, lat)\n",
    "\n",
    "# Imprimir las coordenadas transformadas (añadimos tres decimales)\n",
    "print(\n",
    "f\"\"\"Coordenadas en grados decimales: {lat}, {lon}\n",
    "Coordenadas transformadas: {round(float(x), 3)}, {round(float(y), 3)}\"\"\"\n",
    "    )"
   ]
  },
  {
   "cell_type": "markdown",
   "metadata": {},
   "source": [
    "Coordenadas en grados decimales: 28.042306, -15.471167\n",
    "Coordenadas transformadas: 453691.484, 3101978.354"
   ]
  }
 ],
 "metadata": {
  "kernelspec": {
   "display_name": "Python 3",
   "language": "python",
   "name": "python3"
  },
  "language_info": {
   "codemirror_mode": {
    "name": "ipython",
    "version": 3
   },
   "file_extension": ".py",
   "mimetype": "text/x-python",
   "name": "python",
   "nbconvert_exporter": "python",
   "pygments_lexer": "ipython3",
   "version": "3.12.2"
  }
 },
 "nbformat": 4,
 "nbformat_minor": 2
}
