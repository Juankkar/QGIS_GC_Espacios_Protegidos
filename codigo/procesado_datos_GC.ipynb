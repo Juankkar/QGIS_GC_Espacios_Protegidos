{
 "cells": [
  {
   "cell_type": "code",
   "execution_count": null,
   "metadata": {},
   "outputs": [],
   "source": [
    "import geopandas as gpd\n",
    "import os"
   ]
  },
  {
   "cell_type": "code",
   "execution_count": null,
   "metadata": {},
   "outputs": [],
   "source": [
    "islas_generalizadas = gpd.read_file(\"..\\data\\islas_generalizadas.shp\")\n",
    "eennpp = gpd.read_file(\"..\\data\\eennpp.shp\")\n",
    "municipios = gpd.read_file(\"..\\data\\municipios.shp\")\n",
    "zec_zonificacion = gpd.read_file(\"..\\data\\IC_n2000_ZECZonificacion.shp\")\n",
    "zec_delimitacion = gpd.read_file(\"..\\data\\Cartografia-ZEC\\ZEC.shp\")"
   ]
  },
  {
   "cell_type": "code",
   "execution_count": null,
   "metadata": {},
   "outputs": [],
   "source": [
    "islas_generalizadas.plot()"
   ]
  },
  {
   "cell_type": "code",
   "execution_count": null,
   "metadata": {},
   "outputs": [],
   "source": [
    "municipios.plot()"
   ]
  },
  {
   "cell_type": "code",
   "execution_count": null,
   "metadata": {},
   "outputs": [],
   "source": [
    "eennpp.plot()"
   ]
  },
  {
   "cell_type": "code",
   "execution_count": null,
   "metadata": {},
   "outputs": [],
   "source": [
    "zec_delimitacion.plot()"
   ]
  },
  {
   "cell_type": "code",
   "execution_count": null,
   "metadata": {},
   "outputs": [],
   "source": [
    "zec_zonificacion.plot()"
   ]
  },
  {
   "cell_type": "code",
   "execution_count": null,
   "metadata": {},
   "outputs": [],
   "source": [
    "gran_canaria_filtro = islas_generalizadas[\"nombre\"] == \"GRAN CANARIA\"\n",
    "gran_canaria = islas_generalizadas[gran_canaria_filtro] \n",
    "gran_canaria.head()"
   ]
  },
  {
   "cell_type": "code",
   "execution_count": null,
   "metadata": {},
   "outputs": [],
   "source": [
    "gran_canaria.plot()"
   ]
  },
  {
   "cell_type": "code",
   "execution_count": null,
   "metadata": {},
   "outputs": [],
   "source": [
    "municipios_gc_filtro = municipios[\"isla\"].str.startswith(\"GR\")\n",
    "municipios_gc = municipios[municipios_gc_filtro]\n",
    "municipios_gc.plot()"
   ]
  },
  {
   "cell_type": "code",
   "execution_count": null,
   "metadata": {},
   "outputs": [],
   "source": [
    "eennpp_gran_canaria = gpd.overlay(gran_canaria, eennpp, how=\"intersection\")\n",
    "eennpp_gran_canaria.head()"
   ]
  },
  {
   "cell_type": "code",
   "execution_count": null,
   "metadata": {},
   "outputs": [],
   "source": [
    "eennpp_gran_canaria = gpd.overlay(gran_canaria, eennpp, how=\"intersection\")\n",
    "eennpp_gran_canaria.plot()"
   ]
  },
  {
   "cell_type": "code",
   "execution_count": null,
   "metadata": {},
   "outputs": [],
   "source": [
    "zec_zonificacion_gran_canaria = gpd.overlay(gran_canaria, zec_zonificacion, how=\"intersection\")\n",
    "#zec_zonificacion.head()\n",
    "zec_zonificacion_gran_canaria.plot()"
   ]
  },
  {
   "cell_type": "code",
   "execution_count": null,
   "metadata": {},
   "outputs": [],
   "source": [
    "zec_delimitacion_gc_filtro = zec_delimitacion[\"ISLA\"] == \"Gran Canaria\"\n",
    "zec_delimitacion_gc = zec_delimitacion[zec_delimitacion_gc_filtro]\n",
    "zec_delimitacion_gc.plot()"
   ]
  },
  {
   "cell_type": "code",
   "execution_count": null,
   "metadata": {},
   "outputs": [],
   "source": [
    "## Creamos un directorio para guardar los datos procesados\n",
    "os.mkdir(\"..\\\\data\\\\gran_canaria\")"
   ]
  },
  {
   "cell_type": "code",
   "execution_count": null,
   "metadata": {},
   "outputs": [],
   "source": [
    "## Descargamos los datos crea una carpeta llamada gran_canaria en data\n",
    "gran_canaria.to_file(\"..\\\\data\\\\gran_canaria\\\\gran_canaria_generalizada.shp\")\n",
    "eennpp_gran_canaria.to_file(\"..\\\\data\\\\gran_canaria\\\\eennpp_gran_canaria.shp\")\n",
    "municipios_gc.to_file(\"..\\\\data\\\\gran_canaria\\\\municipios_gc.shp\")\n",
    "zec_zonificacion_gran_canaria.to_file(\"..\\\\data\\\\gran_canaria\\\\zec_zonificacion_gc.shp\")\n",
    "zec_delimitacion_gc.to_file(\"..\\\\data\\\\gran_canaria\\\\zec_delimitacion_gc.shp\")"
   ]
  }
 ],
 "metadata": {
  "kernelspec": {
   "display_name": "Python 3",
   "language": "python",
   "name": "python3"
  },
  "language_info": {
   "codemirror_mode": {
    "name": "ipython",
    "version": 3
   },
   "file_extension": ".py",
   "mimetype": "text/x-python",
   "name": "python",
   "nbconvert_exporter": "python",
   "pygments_lexer": "ipython3",
   "version": "3.12.2"
  }
 },
 "nbformat": 4,
 "nbformat_minor": 2
}
